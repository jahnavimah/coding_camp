{
 "cells": [
  {
   "cell_type": "markdown",
   "id": "6478baab",
   "metadata": {},
   "source": [
    "# PYTHON QUESTIONS"
   ]
  },
  {
   "cell_type": "markdown",
   "id": "861a4c6f",
   "metadata": {},
   "source": [
    "### Question1"
   ]
  },
  {
   "cell_type": "markdown",
   "id": "74fcf08a",
   "metadata": {},
   "source": [
    "Write a Program to accept the strings which contains all vowels"
   ]
  },
  {
   "cell_type": "code",
   "execution_count": 9,
   "id": "8ab9f315",
   "metadata": {},
   "outputs": [
    {
     "name": "stdout",
     "output_type": "stream",
     "text": [
      "Accepted\n"
     ]
    }
   ],
   "source": [
    "def check(string) : \n",
    "    string = string.lower() \n",
    "    vowels = set(\"aeiou\") \n",
    "    s = set({}) \n",
    "    for char in string : \n",
    "        if char in vowels : \n",
    "            s.add(char) \n",
    "        else: \n",
    "            pass\n",
    "    if len(s) == len(vowels) : \n",
    "        print(\"Accepted\") \n",
    "    else : \n",
    "        print(\"Not Accepted\")\n",
    "        \n",
    "check('aelkiou')"
   ]
  },
  {
   "cell_type": "code",
   "execution_count": null,
   "id": "8ebea7ca",
   "metadata": {},
   "outputs": [],
   "source": []
  }
 ],
 "metadata": {
  "kernelspec": {
   "display_name": "Python 3 (ipykernel)",
   "language": "python",
   "name": "python3"
  },
  "language_info": {
   "codemirror_mode": {
    "name": "ipython",
    "version": 3
   },
   "file_extension": ".py",
   "mimetype": "text/x-python",
   "name": "python",
   "nbconvert_exporter": "python",
   "pygments_lexer": "ipython3",
   "version": "3.7.10"
  }
 },
 "nbformat": 4,
 "nbformat_minor": 5
}
